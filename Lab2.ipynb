{
 "cells": [
  {
   "cell_type": "code",
   "execution_count": 2,
   "metadata": {},
   "outputs": [],
   "source": [
    "import numpy as np"
   ]
  },
  {
   "cell_type": "code",
   "execution_count": 7,
   "metadata": {},
   "outputs": [
    {
     "name": "stdout",
     "output_type": "stream",
     "text": [
      "5\n",
      "[[1 0 0 0 0]\n",
      " [0 2 0 0 0]\n",
      " [0 0 3 0 0]\n",
      " [0 0 0 4 0]\n",
      " [0 0 0 0 5]]\n"
     ]
    }
   ],
   "source": [
    "def ex1(n):\n",
    "    return np.diag(np.arange(1, n + 1))\n",
    "\n",
    "n  = int(input())\n",
    "print(ex1(n))"
   ]
  },
  {
   "cell_type": "code",
   "execution_count": 12,
   "metadata": {},
   "outputs": [
    {
     "name": "stdout",
     "output_type": "stream",
     "text": [
      "5\n",
      "[[0 1 0 1 0]\n",
      " [1 0 1 0 1]\n",
      " [0 1 0 1 0]\n",
      " [1 0 1 0 1]\n",
      " [0 1 0 1 0]]\n"
     ]
    }
   ],
   "source": [
    "def ex2(n):\n",
    "    res = np.zeros(n * n, dtype=int)\n",
    "    res[1::2] = 1\n",
    "    return res.reshape(n, n)\n",
    "    \n",
    "n = int(input())\n",
    "print(ex2(n))"
   ]
  },
  {
   "cell_type": "code",
   "execution_count": 23,
   "metadata": {},
   "outputs": [
    {
     "name": "stdout",
     "output_type": "stream",
     "text": [
      "6 7 2 3\n",
      "[[0 0 0 0 0 0 0]\n",
      " [0 1 1 0 1 1 0]\n",
      " [0 0 0 0 0 0 0]\n",
      " [0 1 1 0 1 1 0]\n",
      " [0 0 0 0 0 0 0]\n",
      " [0 1 1 0 1 1 0]]\n"
     ]
    }
   ],
   "source": [
    "def ex3(n, m, r, c):\n",
    "    res = np.ones((n, m), dtype=int)\n",
    "    temp = np.zeros((n, m), dtype=int)\n",
    "    res[:, ::c] = temp[:, ::c]\n",
    "    res[::r, :] = temp[::r, :]\n",
    "    return res\n",
    "\n",
    "\n",
    "n, m, r, c = (int(x) for x in input().split())\n",
    "print(ex3(n, m, r, c))"
   ]
  },
  {
   "cell_type": "code",
   "execution_count": 25,
   "metadata": {},
   "outputs": [
    {
     "name": "stdout",
     "output_type": "stream",
     "text": [
      "4 5\n",
      "[[0 1 2 3 4]\n",
      " [0 0 0 0 0]\n",
      " [0 0 0 0 0]\n",
      " [0 0 0 0 0]]\n"
     ]
    }
   ],
   "source": [
    "def ex4(n, m):\n",
    "    res = np.zeros((n, m), dtype=int)\n",
    "    res[0, :] = np.arange(m)\n",
    "    return res\n",
    "    \n",
    "n, m = (int(x) for x in input().split())\n",
    "print(ex4(n, m))"
   ]
  },
  {
   "cell_type": "code",
   "execution_count": 26,
   "metadata": {},
   "outputs": [
    {
     "name": "stdout",
     "output_type": "stream",
     "text": [
      "5\n",
      "[[1 1 1 1 1]\n",
      " [0 0 0 0 0]\n",
      " [1 1 1 1 1]\n",
      " [0 0 0 0 0]\n",
      " [1 1 1 1 1]]\n"
     ]
    }
   ],
   "source": [
    "def ex5(n):\n",
    "    res = np.zeros((n, n), dtype=int)\n",
    "    res[::2, :] = np.ones(n, dtype=int)\n",
    "    return res\n",
    "\n",
    "n = int(input())\n",
    "print(ex5(n))"
   ]
  },
  {
   "cell_type": "code",
   "execution_count": 27,
   "metadata": {},
   "outputs": [
    {
     "name": "stdout",
     "output_type": "stream",
     "text": [
      "1 2 3 0 9 0 7 0 3 1 0\n",
      "[-1 -1 -1  0 -1  0 -1  0 -1 -1  0]\n"
     ]
    }
   ],
   "source": [
    "def ex6(arr):\n",
    "    arr[arr != 0] = -1\n",
    "    return arr\n",
    "\n",
    "n = np.array([int(x) for x in input().split()])\n",
    "print(ex6(n))"
   ]
  },
  {
   "cell_type": "code",
   "execution_count": 28,
   "metadata": {},
   "outputs": [
    {
     "name": "stdout",
     "output_type": "stream",
     "text": [
      "1 2 3 0 9 0 7 0 3 1 0\n",
      "[ 1  2  3 -1  9 -1  7 -1  3  1 -1]\n"
     ]
    }
   ],
   "source": [
    "def ex7(arr):\n",
    "    arr[arr == 0] = -1\n",
    "    return arr\n",
    "\n",
    "n = np.array([int(x) for x in input().split()])\n",
    "print(ex7(n))"
   ]
  },
  {
   "cell_type": "code",
   "execution_count": 30,
   "metadata": {},
   "outputs": [
    {
     "name": "stdout",
     "output_type": "stream",
     "text": [
      "1 2 3 0 9 0 7 0 3 1 0\n",
      "Non-zero: 7\n",
      "Zeros: 4\n"
     ]
    }
   ],
   "source": [
    "def ex8(arr):\n",
    "    non = np.count_nonzero(arr)\n",
    "    return non, arr.size - non\n",
    "\n",
    "n = np.array([int(x) for x in input().split()])\n",
    "res = ex8(n)\n",
    "print(\"Non-zero:\", res[0])\n",
    "print('Zeros:', res[1])"
   ]
  },
  {
   "cell_type": "code",
   "execution_count": 32,
   "metadata": {},
   "outputs": [
    {
     "name": "stdout",
     "output_type": "stream",
     "text": [
      "10\n",
      "[10  9  8  7  6  5  4  3  2  1  0]\n"
     ]
    }
   ],
   "source": [
    "def ex9(n):\n",
    "    return np.arange(n, -1, -1)\n",
    "\n",
    "n = int(input())\n",
    "print(ex9(n))"
   ]
  },
  {
   "cell_type": "code",
   "execution_count": 36,
   "metadata": {},
   "outputs": [
    {
     "name": "stdout",
     "output_type": "stream",
     "text": [
      "5\n",
      "Min: 0.001\n",
      "Max: 0.937\n",
      "Mean: 0.415\n",
      "Standard deviation: 0.282\n"
     ]
    }
   ],
   "source": [
    "def ex10(n):\n",
    "    arr = np.random.random((n, n))\n",
    "    return np.min(arr), np.max(arr), np.mean(arr), np.std(arr)\n",
    "\n",
    "n = int(input())\n",
    "answ = ex10(n)\n",
    "print(\"Min:\", round(answ[0], 3))\n",
    "print(\"Max:\", round(answ[1], 3))\n",
    "print(\"Mean:\", round(answ[2], 3))\n",
    "print(\"Standard deviation:\", round(answ[3], 3))"
   ]
  },
  {
   "cell_type": "code",
   "execution_count": 40,
   "metadata": {},
   "outputs": [
    {
     "name": "stdout",
     "output_type": "stream",
     "text": [
      "5\n",
      "[[0 0 0 0 0]\n",
      " [0 1 1 1 0]\n",
      " [0 1 1 1 0]\n",
      " [0 1 1 1 0]\n",
      " [0 0 0 0 0]]\n"
     ]
    }
   ],
   "source": [
    "def ex11(n):\n",
    "    res = np.ones((n, n), dtype=int)\n",
    "    zeros = np.zeros((n, n), dtype=int)\n",
    "    res[::n - 1, :] = zeros[::n - 1, :]\n",
    "    res[:, ::n - 1] = zeros[:, ::n - 1]\n",
    "    return res\n",
    "\n",
    "n = int(input())\n",
    "print(ex11(n))"
   ]
  },
  {
   "cell_type": "code",
   "execution_count": 41,
   "metadata": {},
   "outputs": [
    {
     "name": "stdout",
     "output_type": "stream",
     "text": [
      "3\n",
      "[[0. 0. 0.]\n",
      " [0. 1. 0.]\n",
      " [0. 0. 0.]]\n"
     ]
    }
   ],
   "source": [
    "def ex12(n):\n",
    "    res = np.ones((n, n), dtype=float)\n",
    "    zeros = np.zeros((n, n), dtype=float)\n",
    "    res[::n - 1, :] = zeros[::n - 1, :]\n",
    "    res[:, ::n - 1] = zeros[:, ::n - 1]\n",
    "    return res\n",
    "\n",
    "n = int(input())\n",
    "print(ex11(n))"
   ]
  },
  {
   "cell_type": "code",
   "execution_count": 44,
   "metadata": {},
   "outputs": [
    {
     "name": "stdout",
     "output_type": "stream",
     "text": [
      "In the matrix of 4x5x6 the 70-th element index is (2, 1, 3)\n"
     ]
    }
   ],
   "source": [
    "def ex13():\n",
    "    print(\"In the matrix of 4x5x6 the 70-th element index is (2, 1, 3)\")\n",
    "\n",
    "ex13()"
   ]
  },
  {
   "cell_type": "code",
   "execution_count": 89,
   "metadata": {},
   "outputs": [
    {
     "name": "stdout",
     "output_type": "stream",
     "text": [
      "[[0 1 0 1 0 1 0 1]\n",
      " [1 0 1 0 1 0 1 0]\n",
      " [0 1 0 1 0 1 0 1]\n",
      " [1 0 1 0 1 0 1 0]\n",
      " [0 1 0 1 0 1 0 1]\n",
      " [1 0 1 0 1 0 1 0]\n",
      " [0 1 0 1 0 1 0 1]\n",
      " [1 0 1 0 1 0 1 0]]\n"
     ]
    }
   ],
   "source": [
    "def ex14():\n",
    "    n = np.array([[0, 1, 0, 1, 0, 1, 0, 1, 1, 0, 1, 0, 1, 0, 1, 0]])\n",
    "    return np.repeat(n, repeats=4, axis=0).reshape(8, 8)\n",
    "\n",
    "print(ex14())"
   ]
  },
  {
   "cell_type": "code",
   "execution_count": 90,
   "metadata": {},
   "outputs": [
    {
     "name": "stdout",
     "output_type": "stream",
     "text": [
      "[[0 1 0 1 0 1 0 1]\n",
      " [1 0 1 0 1 0 1 0]\n",
      " [0 1 0 1 0 1 0 1]\n",
      " [1 0 1 0 1 0 1 0]\n",
      " [0 1 0 1 0 1 0 1]\n",
      " [1 0 1 0 1 0 1 0]\n",
      " [0 1 0 1 0 1 0 1]\n",
      " [1 0 1 0 1 0 1 0]]\n"
     ]
    }
   ],
   "source": [
    "def ex15():\n",
    "    n = np.array([[0, 1, 0, 1, 0, 1, 0, 1, 1, 0, 1, 0, 1, 0, 1, 0]])\n",
    "    return np.tile(n, repeats=4).reshape(8, 8)\n",
    "\n",
    "print(ex14())"
   ]
  },
  {
   "cell_type": "code",
   "execution_count": 92,
   "metadata": {},
   "outputs": [
    {
     "name": "stdout",
     "output_type": "stream",
     "text": [
      "5\n",
      "[[0 1 0 1 0]\n",
      " [0 1 0 1 0]\n",
      " [0 1 0 1 0]\n",
      " [0 1 0 1 0]\n",
      " [0 1 0 1 0]]\n"
     ]
    }
   ],
   "source": [
    "def ex16(n):\n",
    "    res = np.zeros((n, n), dtype=int)\n",
    "    res[:, 1::2] = 1\n",
    "    return res\n",
    "\n",
    "n = int(input())\n",
    "print(ex16(n))"
   ]
  },
  {
   "cell_type": "code",
   "execution_count": 15,
   "metadata": {},
   "outputs": [
    {
     "name": "stdout",
     "output_type": "stream",
     "text": [
      "20\n",
      "10\n",
      "15\n",
      "[ 0 19  6  0  6  3  8 19 15 15  6  0 18  2  1 17  0  0  3  6]\n"
     ]
    }
   ],
   "source": [
    "def ex17(n):\n",
    "    arr = np.random.randint(n, size=n)\n",
    "    a = int(n / 2)\n",
    "    b = int(3 * n / 4)\n",
    "    arr[(arr > a) & (arr < b)] = 0\n",
    "    return arr\n",
    "\n",
    "n = int(input())\n",
    "print(ex17(n))"
   ]
  },
  {
   "cell_type": "code",
   "execution_count": 30,
   "metadata": {},
   "outputs": [
    {
     "name": "stdout",
     "output_type": "stream",
     "text": [
      "20\n",
      "[ 18 -11   6   0   2 -11  15 -12  15  10  16   3 -14  16   1   1  17  19\n",
      "   3 -11]\n"
     ]
    }
   ],
   "source": [
    "def ex18(n):\n",
    "    arr = np.random.randint(n, size=n)\n",
    "    a = int(n / 2)\n",
    "    b = int(3 * n / 4)\n",
    "    arr[(arr > a) & (arr < b)] = -arr[(arr > a) & (arr < b)]\n",
    "    return arr\n",
    "\n",
    "n = int(input())\n",
    "print(ex18(n))"
   ]
  },
  {
   "cell_type": "code",
   "execution_count": 32,
   "metadata": {},
   "outputs": [
    {
     "name": "stdout",
     "output_type": "stream",
     "text": [
      "30\n",
      "In [ 0 44  6 48  6 23 79 50 70  4 31 27  6 13 98 64 12 26 59 34 59 90 87 82\n",
      " 98 93 85 61 41 28] there are 26 unique elements\n"
     ]
    }
   ],
   "source": [
    "def ex19(n):\n",
    "    arr = np.random.randint(99, size=n)\n",
    "    return arr, np.unique(arr).size\n",
    "\n",
    "n = int(input())\n",
    "res = ex19(n)\n",
    "print(f\"In {res[0]} there are {res[1]} unique elements\")"
   ]
  },
  {
   "cell_type": "code",
   "execution_count": 34,
   "metadata": {},
   "outputs": [
    {
     "name": "stdout",
     "output_type": "stream",
     "text": [
      "20\n",
      "[0.    0.053 0.105 0.158 0.211 0.263 0.316 0.368 0.421 0.474 0.526 0.579\n",
      " 0.632 0.684 0.737 0.789 0.842 0.895 0.947 1.   ]\n"
     ]
    }
   ],
   "source": [
    "def ex20(n):\n",
    "    return np.round(np.linspace(0, 1, n), 3)\n",
    "\n",
    "n = int(input())\n",
    "print(ex20(n))"
   ]
  },
  {
   "cell_type": "code",
   "execution_count": 36,
   "metadata": {},
   "outputs": [
    {
     "name": "stdout",
     "output_type": "stream",
     "text": [
      "10\n",
      "Array: [0.49790499 0.69107855 0.79615885 0.36254551 0.49229783 0.5710775\n",
      " 0.9430144  0.89892233 0.97381654 0.49371805]\n",
      "Modified array: [0.49790499 0.69107855 0.79615885 0.36254551 0.49229783 0.5710775\n",
      " 0.9430144  0.89892233 0.         0.49371805]\n"
     ]
    }
   ],
   "source": [
    "def ex21(n):\n",
    "    res = np.random.random(n)\n",
    "    maxt = np.max(res)\n",
    "    return res, np.where(res==maxt, 0, res)\n",
    "\n",
    "n = int(input())\n",
    "res = ex21(n)\n",
    "print(\"Array:\", res[0])\n",
    "print(\"Modified array:\", res[1])"
   ]
  },
  {
   "cell_type": "code",
   "execution_count": 44,
   "metadata": {},
   "outputs": [
    {
     "name": "stdout",
     "output_type": "stream",
     "text": [
      "3 10\n",
      "Array: [[5 7 4]\n",
      " [9 6 4]\n",
      " [5 8 4]]\n",
      "Modified array: [[ 5  7  4]\n",
      " [-9  6  4]\n",
      " [ 5  8  4]]\n"
     ]
    }
   ],
   "source": [
    "def ex22(n, m):\n",
    "    res = np.random.randint(m, size=(n, n))\n",
    "    maxt = np.max(res)\n",
    "    return res, np.where(res==maxt, -maxt, res)\n",
    "\n",
    "n, m = (int(x) for x in input().split())\n",
    "res = ex22(n, m)\n",
    "print(\"Array:\", res[0])\n",
    "print(\"Modified array:\", res[1])"
   ]
  },
  {
   "cell_type": "markdown",
   "metadata": {},
   "source": [
    "$$\n",
    "sign(x) = \\left\\{\n",
    "    \\begin{array}\\\\\n",
    "        x1 + 5x2 + 3x3 - 4x4 = 20\\\\\n",
    "        3x1 + x2 - 2x3 = 9\\\\\n",
    "        5x1 - 7x2 +10x4 = -9\\\\\n",
    "        x2 +3x3 - 5x4 = 1\n",
    "    \\end{array}\n",
    "\\right.\n",
    "$$"
   ]
  },
  {
   "cell_type": "code",
   "execution_count": 47,
   "metadata": {},
   "outputs": [
    {
     "name": "stdout",
     "output_type": "stream",
     "text": [
      "[ 3.  2.  1. -1.]\n",
      "[ 3.  2.  1. -1.]\n",
      "True\n"
     ]
    }
   ],
   "source": [
    "#Task2\n",
    "import copy\n",
    "\n",
    "\n",
    "def cramer(arr, n, m):\n",
    "    a = copy.copy(arr[:, :m - 1])\n",
    "    b = copy.copy(arr[:, m - 1])\n",
    "    x = np.dot(np.linalg.inv(a), b)\n",
    "    return np.linalg.solve(a, b), x\n",
    "\n",
    "arr = np.array([[1, 5, 3, -4, 20], [3, 1, -2, 0 , 9], [5, -7, 0, 10, -9], [0, 3, -5, 0, 1]])\n",
    "res = cramer(arr, 4, 5)\n",
    "print(res[0])\n",
    "print(res[1])\n",
    "print(np.allclose(res[0], res[1]))"
   ]
  },
  {
   "cell_type": "markdown",
   "metadata": {},
   "source": [
    "# A=\n",
    "\\begin{pmatrix}\n",
    "5 & 2 & 0\\\\\n",
    "10 & 4 & 1\\\\\n",
    "7 & 3 & 2\n",
    "\\end{pmatrix}"
   ]
  },
  {
   "cell_type": "markdown",
   "metadata": {},
   "source": [
    "# B=\n",
    "\\begin{pmatrix}\n",
    "3 & 6 & -1\\\\\n",
    "-1 & -2 & 0\\\\\n",
    "2 & 1 & 3\n",
    "\\end{pmatrix}"
   ]
  },
  {
   "cell_type": "markdown",
   "metadata": {},
   "source": [
    "$$\n",
    "(A - B^{2}) * (A * 2 + B)\n",
    "$$"
   ]
  },
  {
   "cell_type": "code",
   "execution_count": 55,
   "metadata": {},
   "outputs": [
    {
     "name": "stdout",
     "output_type": "stream",
     "text": [
      "[[  91   64   32]\n",
      " [ 257  146    1]\n",
      " [-322 -135  -51]]\n"
     ]
    }
   ],
   "source": [
    "\n",
    "#Task3\n",
    "def movements(a, b):\n",
    "    res = np.linalg.matrix_power(b, 2)\n",
    "    res = np.subtract(a, res)\n",
    "    res2 = np.add(np.dot(a, 2), b)\n",
    "    return np.dot(res, res2)\n",
    "\n",
    "a = [[5, 2, 0], [10, 4, 1], [7, 3, 2]]\n",
    "b = [[3, 6, -1], [-1, -2, 0], [2, 1, 3]]\n",
    "print(movements(a, b))"
   ]
  },
  {
   "cell_type": "markdown",
   "metadata": {},
   "source": [
    "# A=\n",
    "\\begin{pmatrix}\n",
    "2 & 3 & 1\\\\\n",
    "4 & -1 & 0\\\\\n",
    "0 & 1 & 2\n",
    "\\end{pmatrix}"
   ]
  },
  {
   "cell_type": "markdown",
   "metadata": {},
   "source": [
    "# B=\n",
    "\\begin{pmatrix}\n",
    "9 & 8 & 7\\\\\n",
    "2 & 7 & 3\\\\\n",
    "4 & 3 & 5\n",
    "\\end{pmatrix}"
   ]
  },
  {
   "cell_type": "markdown",
   "metadata": {},
   "source": [
    "$$\n",
    "A * X = B\n",
    "$$"
   ]
  },
  {
   "cell_type": "code",
   "execution_count": 58,
   "metadata": {},
   "outputs": [
    {
     "name": "stdout",
     "output_type": "stream",
     "text": [
      "[[1. 2. 1.]\n",
      " [2. 1. 1.]\n",
      " [1. 1. 2.]]\n",
      "[[1. 2. 1.]\n",
      " [2. 1. 1.]\n",
      " [1. 1. 2.]]\n",
      "True\n"
     ]
    }
   ],
   "source": [
    "#Task4\n",
    "def inverse(a, b):\n",
    "    x = np.dot(np.linalg.inv(a), b)\n",
    "    return np.linalg.solve(a, b), x\n",
    "\n",
    "a = [[2, 3, 1], [4, -1, 0], [0, 1, 2]]\n",
    "b = [[9, 8, 7], [2, 7, 3], [4, 3, 5]]\n",
    "res = inverse(a, b)\n",
    "print(res[0])\n",
    "print(res[1])\n",
    "print(np.allclose(res[0], res[1]))"
   ]
  },
  {
   "cell_type": "code",
   "execution_count": null,
   "metadata": {},
   "outputs": [],
   "source": []
  }
 ],
 "metadata": {
  "kernelspec": {
   "display_name": "Python 3",
   "language": "python",
   "name": "python3"
  },
  "language_info": {
   "codemirror_mode": {
    "name": "ipython",
    "version": 3
   },
   "file_extension": ".py",
   "mimetype": "text/x-python",
   "name": "python",
   "nbconvert_exporter": "python",
   "pygments_lexer": "ipython3",
   "version": "3.7.4"
  }
 },
 "nbformat": 4,
 "nbformat_minor": 2
}
